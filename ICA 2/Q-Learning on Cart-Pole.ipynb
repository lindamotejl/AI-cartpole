{
 "cells": [
  {
   "cell_type": "code",
   "execution_count": 1,
   "id": "822fa176",
   "metadata": {},
   "outputs": [],
   "source": [
    "import numpy as np\n",
    "import gym\n",
    "import time\n",
    "import math\n",
    "import matplotlib.pyplot as plt "
   ]
  },
  {
   "cell_type": "code",
   "execution_count": 2,
   "id": "70048d89",
   "metadata": {},
   "outputs": [
    {
     "name": "stdout",
     "output_type": "stream",
     "text": [
      "2\n"
     ]
    }
   ],
   "source": [
    "env = gym.make(\"CartPole-v1\")\n",
    "print(env.action_space.n)"
   ]
  },
  {
   "cell_type": "code",
   "execution_count": 3,
   "id": "2ab45912",
   "metadata": {},
   "outputs": [],
   "source": [
    "# Learning Rate: learning rate is associated with how big you take a leap\n",
    "lr = 0.1\n",
    "\n",
    "#Discount Factor\n",
    "gamma = 0.95\n",
    "\n",
    "#Amount of iterations we are going to run until we see our model is trained\n",
    "epochs = 60000\n",
    "total_time = 0\n",
    "total_reward = 0\n",
    "prev_reward = 0\n",
    "\n",
    "Observation = [30, 30, 50, 50]\n",
    "step_size = np.array([0.25, 0.25, 0.01, 0.1])\n",
    "\n",
    "# epsilon is associated with how random you take an action.\n",
    "epsilon = 0.3\n"
   ]
  },
  {
   "cell_type": "code",
   "execution_count": 4,
   "id": "965b0d6c",
   "metadata": {
    "scrolled": true
   },
   "outputs": [
    {
     "name": "stdout",
     "output_type": "stream",
     "text": [
      "[[[0.08888318 0.11043499]\n",
      "  [0.19144053 0.68855304]\n",
      "  [0.82919344 0.40852539]\n",
      "  ...\n",
      "  [0.26321901 0.81223593]\n",
      "  [0.78816355 0.31318497]\n",
      "  [0.1533373  0.70473027]]\n",
      "\n",
      " [[0.06831697 0.75739909]\n",
      "  [0.21750777 0.08098787]\n",
      "  [0.45057348 0.87402463]\n",
      "  ...\n",
      "  [0.64799527 0.2161011 ]\n",
      "  [0.42058057 0.2162505 ]\n",
      "  [0.98505941 0.30953452]]\n",
      "\n",
      " [[0.14763662 0.74359422]\n",
      "  [0.47821828 0.76279485]\n",
      "  [0.09868625 0.20715004]\n",
      "  ...\n",
      "  [0.78465265 0.76026116]\n",
      "  [0.96212772 0.46402701]\n",
      "  [0.57828113 0.91025313]]\n",
      "\n",
      " ...\n",
      "\n",
      " [[0.06858037 0.07982005]\n",
      "  [0.12310675 0.00798051]\n",
      "  [0.10968309 0.70932384]\n",
      "  ...\n",
      "  [0.82087392 0.32876739]\n",
      "  [0.9744877  0.87694726]\n",
      "  [0.5746189  0.11644789]]\n",
      "\n",
      " [[0.21585327 0.86317965]\n",
      "  [0.4801732  0.70373039]\n",
      "  [0.05769934 0.88179597]\n",
      "  ...\n",
      "  [0.5222696  0.58061199]\n",
      "  [0.96605412 0.29803704]\n",
      "  [0.99106708 0.52200592]]\n",
      "\n",
      " [[0.79269669 0.85159061]\n",
      "  [0.62681482 0.23615697]\n",
      "  [0.03252239 0.50896871]\n",
      "  ...\n",
      "  [0.38113312 0.98250726]\n",
      "  [0.85519393 0.65067975]\n",
      "  [0.94815247 0.07710507]]]\n"
     ]
    }
   ],
   "source": [
    "#randomly initializing values in our q table\n",
    "q_table = np.random.uniform(low=0, high=1, size=(Observation + [env.action_space.n]))\n",
    "q_table.shape\n",
    "print(q_table[0][0])"
   ]
  },
  {
   "cell_type": "code",
   "execution_count": 5,
   "id": "ee898754",
   "metadata": {},
   "outputs": [],
   "source": [
    "#converting the state space from box format to discrete format. Used to input into our q learing algorithm.\n",
    "def get_discrete_state(state):\n",
    "    discrete_state = state/step_size+ np.array([15,10,1,10])\n",
    "    return tuple(discrete_state.astype(np.int))"
   ]
  },
  {
   "cell_type": "code",
   "execution_count": 6,
   "id": "7c5bb14e",
   "metadata": {},
   "outputs": [
    {
     "name": "stdout",
     "output_type": "stream",
     "text": [
      "Episode: 0\n"
     ]
    },
    {
     "name": "stderr",
     "output_type": "stream",
     "text": [
      "c:\\users\\linda\\appdata\\local\\programs\\python\\python37-32\\lib\\site-packages\\ipykernel_launcher.py:4: DeprecationWarning: `np.int` is a deprecated alias for the builtin `int`. To silence this warning, use `int` by itself. Doing this will not modify any behavior and is safe. When replacing `np.int`, you may wish to use e.g. `np.int64` or `np.int32` to specify the precision. If you wish to review your current use, check the release note link for additional information.\n",
      "Deprecated in NumPy 1.20; for more details and guidance: https://numpy.org/devdocs/release/1.20.0-notes.html#deprecations\n",
      "  after removing the cwd from sys.path.\n"
     ]
    },
    {
     "name": "stdout",
     "output_type": "stream",
     "text": [
      "Time Average: 0.001366215467453003\n",
      "Mean Reward: 0.024\n",
      "Epsilon: 0.3\n",
      "Episode: 1000\n",
      "Time Average: 0.002335740327835083\n",
      "Mean Reward: 23.655\n",
      "Epsilon: 0.3\n",
      "Episode: 2000\n",
      "Time Average: 0.0030568537712097167\n",
      "Mean Reward: 26.056\n",
      "Epsilon: 0.3\n",
      "Episode: 3000\n",
      "Time Average: 0.0028766300678253172\n",
      "Mean Reward: 29.254\n",
      "Epsilon: 0.3\n",
      "Episode: 4000\n",
      "Time Average: 0.003846673011779785\n",
      "Mean Reward: 33.975\n",
      "Epsilon: 0.3\n",
      "Episode: 5000\n",
      "Time Average: 0.003573683738708496\n",
      "Mean Reward: 37.908\n",
      "Epsilon: 0.3\n",
      "Episode: 6000\n",
      "Time Average: 0.005874752044677734\n",
      "Mean Reward: 48.092\n",
      "Epsilon: 0.3\n",
      "Episode: 7000\n",
      "Time Average: 0.005986695528030396\n",
      "Mean Reward: 62.101\n",
      "Epsilon: 0.3\n",
      "Episode: 8000\n",
      "Time Average: 0.008444921731948853\n",
      "Mean Reward: 69.655\n",
      "Epsilon: 0.3\n",
      "Episode: 9000\n",
      "Time Average: 0.007505507946014405\n",
      "Mean Reward: 78.201\n",
      "Epsilon: 0.3\n",
      "Episode: 10000\n",
      "Time Average: 0.0090417320728302\n",
      "Mean Reward: 87.703\n",
      "Epsilon: 0.3\n",
      "Episode: 11000\n",
      "Time Average: 0.008296995401382446\n",
      "Mean Reward: 88.519\n",
      "Epsilon: 0.3\n"
     ]
    },
    {
     "ename": "KeyboardInterrupt",
     "evalue": "",
     "output_type": "error",
     "traceback": [
      "\u001b[1;31m---------------------------------------------------------------------------\u001b[0m",
      "\u001b[1;31mKeyboardInterrupt\u001b[0m                         Traceback (most recent call last)",
      "\u001b[1;32m~\\AppData\\Local\\Temp/ipykernel_10036/3399747437.py\u001b[0m in \u001b[0;36m<module>\u001b[1;34m\u001b[0m\n\u001b[0;32m      5\u001b[0m \u001b[1;33m\u001b[0m\u001b[0m\n\u001b[0;32m      6\u001b[0m     \u001b[1;31m#get the discrete state for the restarted environment\u001b[0m\u001b[1;33m\u001b[0m\u001b[1;33m\u001b[0m\u001b[1;33m\u001b[0m\u001b[0m\n\u001b[1;32m----> 7\u001b[1;33m     \u001b[0mdiscrete_state\u001b[0m \u001b[1;33m=\u001b[0m \u001b[0mget_discrete_state\u001b[0m\u001b[1;33m(\u001b[0m\u001b[0menv\u001b[0m\u001b[1;33m.\u001b[0m\u001b[0mreset\u001b[0m\u001b[1;33m(\u001b[0m\u001b[1;33m)\u001b[0m\u001b[1;33m)\u001b[0m\u001b[1;33m\u001b[0m\u001b[1;33m\u001b[0m\u001b[0m\n\u001b[0m\u001b[0;32m      8\u001b[0m \u001b[1;33m\u001b[0m\u001b[0m\n\u001b[0;32m      9\u001b[0m     \u001b[1;31m#we create a boolean that will tell us whether our game is running or not\u001b[0m\u001b[1;33m\u001b[0m\u001b[1;33m\u001b[0m\u001b[1;33m\u001b[0m\u001b[0m\n",
      "\u001b[1;32m~\\AppData\\Local\\Temp/ipykernel_10036/3895472311.py\u001b[0m in \u001b[0;36mget_discrete_state\u001b[1;34m(state)\u001b[0m\n\u001b[0;32m      1\u001b[0m \u001b[1;31m#converting the state space from box format to discrete format. Used to input into our q learing algorithm.\u001b[0m\u001b[1;33m\u001b[0m\u001b[1;33m\u001b[0m\u001b[1;33m\u001b[0m\u001b[0m\n\u001b[0;32m      2\u001b[0m \u001b[1;32mdef\u001b[0m \u001b[0mget_discrete_state\u001b[0m\u001b[1;33m(\u001b[0m\u001b[0mstate\u001b[0m\u001b[1;33m)\u001b[0m\u001b[1;33m:\u001b[0m\u001b[1;33m\u001b[0m\u001b[1;33m\u001b[0m\u001b[0m\n\u001b[1;32m----> 3\u001b[1;33m     \u001b[0mdiscrete_state\u001b[0m \u001b[1;33m=\u001b[0m \u001b[0mstate\u001b[0m\u001b[1;33m/\u001b[0m\u001b[0mstep_size\u001b[0m\u001b[1;33m+\u001b[0m \u001b[0mnp\u001b[0m\u001b[1;33m.\u001b[0m\u001b[0marray\u001b[0m\u001b[1;33m(\u001b[0m\u001b[1;33m[\u001b[0m\u001b[1;36m15\u001b[0m\u001b[1;33m,\u001b[0m\u001b[1;36m10\u001b[0m\u001b[1;33m,\u001b[0m\u001b[1;36m1\u001b[0m\u001b[1;33m,\u001b[0m\u001b[1;36m10\u001b[0m\u001b[1;33m]\u001b[0m\u001b[1;33m)\u001b[0m\u001b[1;33m\u001b[0m\u001b[1;33m\u001b[0m\u001b[0m\n\u001b[0m\u001b[0;32m      4\u001b[0m     \u001b[1;32mreturn\u001b[0m \u001b[0mtuple\u001b[0m\u001b[1;33m(\u001b[0m\u001b[0mdiscrete_state\u001b[0m\u001b[1;33m.\u001b[0m\u001b[0mastype\u001b[0m\u001b[1;33m(\u001b[0m\u001b[0mnp\u001b[0m\u001b[1;33m.\u001b[0m\u001b[0mint\u001b[0m\u001b[1;33m)\u001b[0m\u001b[1;33m)\u001b[0m\u001b[1;33m\u001b[0m\u001b[1;33m\u001b[0m\u001b[0m\n",
      "\u001b[1;31mKeyboardInterrupt\u001b[0m: "
     ]
    }
   ],
   "source": [
    "#iterating through n epochs\n",
    "for epoch in range(epochs + 1): \n",
    "    #set the initial time, so we can calculate how much each action takes\n",
    "    t_initial = time.time() \n",
    "    \n",
    "    #get the discrete state for the restarted environment\n",
    "    discrete_state = get_discrete_state(env.reset()) \n",
    "    \n",
    "    #we create a boolean that will tell us whether our game is running or not\n",
    "    done = False\n",
    "    \n",
    "    #our reward is intialized at zero at the beginning of every eisode\n",
    "    epoch_reward = 0 \n",
    "\n",
    "    #Every 1000 epochs we have an episode. Measuring reward for every set of epochs.\n",
    "    if epoch % 1000 == 0: \n",
    "        print(\"Episode: \" + str(epoch)) \n",
    "\n",
    "    while not done: \n",
    "        #Now we are in our gameloop\n",
    "        #if some random number is greater than epsilon, then we take the best possible action (max reward) we have explored so far\n",
    "        if np.random.random() > epsilon:\n",
    "\n",
    "            action = np.argmax(q_table[discrete_state])\n",
    "        \n",
    "        #else, we will explore and take a random action\n",
    "        else:\n",
    "\n",
    "            action = np.random.randint(0, env.action_space.n) \n",
    "\n",
    "        #now we will intialize our new_state, reward, and done variables\n",
    "        new_state, reward, done, _ = env.step(action) \n",
    "    \n",
    "        epoch_reward += reward \n",
    "        \n",
    "        #we discretize our new state\n",
    "        new_discrete_state = get_discrete_state(new_state)\n",
    "        \n",
    "        #we render our environment after 2000 steps\n",
    "        if epoch % 2000 == 0: \n",
    "            env.render()\n",
    "\n",
    "        #if the game loop is still running, update the q-table\n",
    "        if not done:\n",
    "            max_new_q = np.max(q_table[new_discrete_state])\n",
    "\n",
    "            current_q = q_table[discrete_state + (action,)]\n",
    "\n",
    "            new_q = (1 - lr) * current_q + lr * (reward + gamma* max_new_q)\n",
    "\n",
    "            q_table[discrete_state + (action,)] = new_q\n",
    "\n",
    "        discrete_state = new_discrete_state\n",
    "    # if our epsilon is greater than .05m , and if our reward is greater than the previous and if we reached past our 10000 epoch, we recalculate episilon\n",
    "    \n",
    "\n",
    "    #we calculate the final time\n",
    "    tfinal = time.time() \n",
    "    \n",
    "    #total epoch time\n",
    "    episode_total = tfinal - t_initial \n",
    "    total_time += episode_total\n",
    "    \n",
    "    #calculate and update rewards\n",
    "    total_reward += epoch_reward\n",
    "    prev_reward = epoch_reward\n",
    "\n",
    "    #every 1000 episodes print the average time and the average reward\n",
    "    if epoch % 1000 == 0: \n",
    "        mean_time = total_time / 1000\n",
    "        print(\"Time Average: \" + str(mean_time))\n",
    "        total_time = 0\n",
    "\n",
    "        mean_reward = total_reward / 1000\n",
    "        print(\"Mean Reward: \" + str(mean_reward))\n",
    "        total_reward = 0\n",
    "\n",
    "        print(\"Epsilon: \" + str(epsilon))\n",
    "   \n",
    "env.close()\n"
   ]
  },
  {
   "cell_type": "code",
   "execution_count": null,
   "id": "18418f71",
   "metadata": {},
   "outputs": [],
   "source": []
  },
  {
   "cell_type": "code",
   "execution_count": null,
   "id": "d3f93b37",
   "metadata": {},
   "outputs": [],
   "source": []
  }
 ],
 "metadata": {
  "kernelspec": {
   "display_name": "Python 3 (ipykernel)",
   "language": "python",
   "name": "python3"
  },
  "language_info": {
   "codemirror_mode": {
    "name": "ipython",
    "version": 3
   },
   "file_extension": ".py",
   "mimetype": "text/x-python",
   "name": "python",
   "nbconvert_exporter": "python",
   "pygments_lexer": "ipython3",
   "version": "3.7.4"
  }
 },
 "nbformat": 4,
 "nbformat_minor": 5
}
